{
 "cells": [
  {
   "cell_type": "code",
   "execution_count": null,
   "id": "7bd649fb",
   "metadata": {},
   "outputs": [
    {
     "name": "stderr",
     "output_type": "stream",
     "text": [
      "O sistema n�o pode encontrar o caminho especificado.\n"
     ]
    }
   ],
   "source": [
    "#@title Instalar dependências\n",
    "!apt-get -qq install -y graphviz > /dev/null\n",
    "!pip -q install dtreeviz==2.2.2 scikit-learn pandas numpy\n",
    "!pip -q install graphviz pydotplus"
   ]
  }
 ],
 "metadata": {
  "kernelspec": {
   "display_name": ".venv (3.13.6)",
   "language": "python",
   "name": "python3"
  },
  "language_info": {
   "codemirror_mode": {
    "name": "ipython",
    "version": 3
   },
   "file_extension": ".py",
   "mimetype": "text/x-python",
   "name": "python",
   "nbconvert_exporter": "python",
   "pygments_lexer": "ipython3",
   "version": "3.13.6"
  }
 },
 "nbformat": 4,
 "nbformat_minor": 5
}
